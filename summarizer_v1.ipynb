{
 "cells": [
  {
   "cell_type": "code",
   "execution_count": 1,
   "metadata": {},
   "outputs": [],
   "source": [
    "from bs4 import BeautifulSoup\n",
    "import requests\n",
    "from gensim.summarization import summarize\n"
   ]
  },
  {
   "cell_type": "code",
   "execution_count": 2,
   "metadata": {},
   "outputs": [],
   "source": [
    "input = 'Microsoft held talks in the past few weeks to acquire software developer platform GitHub, Business Insider reports. One person familiar with the discussions between the companies told CNBC that they had been considering a joint marketing partnership valued around $35 million, and that those discussions had progressed to a possible investment or outright acquisition. It is unclear whether talks are still ongoing, but this person said that GitHub\\'s price for a full acquisition was more than Microsoft currently wanted to pay. GitHub was last valued at $2 billion in its last funding round 2015, but the price tag for an acquisition could be $5 billion or more, based on a price that was floated last year. GitHub\\'s tools have become essential to software developers, who use it to store code, keep track of updates and discuss issues. The privately held company has more than 23 million individual users in more than 1.5 million organizations. It was on track to book more than $200 million in subscription revenue, including more than $110 million from companies using its enterprise product, GitHub told CNBC last fall.Microsoft has reportedly flirted with buying GitHub in the past, including in 2016, although GitHub denied those reports. A partnership would give Microsoft another connection point to the developers it needs to court to build applications on its various platforms, including the Azure cloud. Microsoft could also use data from GitHub to improve its artificial intelligence producs. The talks come amid GitHub\\'s struggle to replace CEO and founder Chris Wanstrath, who stepped down 10 months ago. Business Insider reported that Microsoft exec Nat Friedman -- who previously ran Xamarin, a developer tools start-up that Microsoft acquired in 2016 -- may take that CEO role. Google\\'s senior VP of ads and commerce, Sridhar Ramaswamy, has also been in discussions for the job, says the report. Microsoft declined to comment on the report. GitHub did not immediately return a request for comment.'\n",
    "#print('Complete Text:\\n' + input +'\\n\\n')\n",
    "output = summarize(input)\n",
    "#print('Summarized Text:\\n' + output)"
   ]
  },
  {
   "cell_type": "code",
   "execution_count": 3,
   "metadata": {},
   "outputs": [],
   "source": [
    "def read_plot(input):\n",
    "    title = input.split()\n",
    "    if len(title) > 1:\n",
    "        title = input.replace(' ', '_')\n",
    "    else:\n",
    "        title = input\n",
    "\n",
    "    url = 'https://en.wikipedia.org/wiki/{}'.format(title)\n",
    "    response = requests.get(url)\n",
    "    full_text = ''\n",
    "    soup = BeautifulSoup(response.content, 'html.parser')\n",
    "    for header in soup.find_all('h2'):\n",
    "        if len(header.find_all('span', text='Plot')) != 0:\n",
    "            paragraphs = header.find_next_siblings('p', limit=10)\n",
    "            for p in paragraphs:\n",
    "                full_text += ('\\n'+ p.text)\n",
    "    print('Complete Text: ' + '\\n' + full_text +'\\n\\n')\n",
    "    return full_text"
   ]
  },
  {
   "cell_type": "code",
   "execution_count": 5,
   "metadata": {},
   "outputs": [
    {
     "name": "stdout",
     "output_type": "stream",
     "text": [
      "Complete Text: \n",
      "\n",
      "Thousands of years ago, five African tribes war over a meteorite containing vibranium. One warrior ingests a \"heart-shaped herb\" affected by the metal and gains superhuman abilities, becoming the first \"Black Panther\". He unites all but the Jabari Tribe to form the nation of Wakanda. Over centuries, the Wakandans use the vibranium to develop advanced technology and isolate themselves from the world by posing as a Third World country. In 1992, Wakanda's King T'Chaka visits his brother N'Jobu, who is working undercover in Oakland, California. T'Chaka accuses N'Jobu of assisting black-market arms dealer Ulysses Klaue with stealing vibranium from Wakanda. N'Jobu's partner reveals he is Zuri, another undercover Wakandan, and confirms T'Chaka's suspicions.\n",
      "\n",
      "In the present day, following T'Chaka's death,[N 1] his son T'Challa returns to Wakanda to assume the throne. He and Okoye, the leader of the Dora Milaje regiment, extract T'Challa's ex-lover Nakia from an undercover assignment so she can attend his coronation ceremony with his mother Ramonda and younger sister Shuri. At the ceremony, the Jabari Tribe's leader M'Baku challenges T'Challa for the crown in ritual combat. T'Challa defeats M'Baku and persuades him to yield rather than die.\n",
      "\n",
      "When Klaue and his accomplice Erik Stevens steal a Wakandan artifact from a London museum, T'Challa's friend and Okoye's lover W'Kabi urges him to bring Klaue back alive. T'Challa, Okoye, and Nakia travel to Busan, South Korea, where Klaue plans to sell the artifact to CIA agent Everett K. Ross. A firefight erupts and Klaue attempts to flee but is caught by T'Challa, who reluctantly releases him to Ross' custody. Klaue tells Ross that Wakanda's international image is a front for a technologically advanced civilization. Erik attacks and extracts Klaue as Ross is gravely injured protecting Nakia. Rather than pursue Klaue, T'Challa takes Ross to Wakanda, where their technology can save him.\n",
      "\n",
      "While Shuri heals Ross, T'Challa confronts Zuri about N'Jobu. Zuri explains that N'Jobu planned to share Wakanda's technology with people of African descent around the world to help them conquer their oppressors. As T'Chaka arrested N'Jobu, the latter attacked Zuri and forced T'Chaka to kill him. T'Chaka ordered Zuri to lie that N'Jobu had disappeared and left behind N'Jobu's American son in order to maintain the lie. This boy grew up to be Stevens, a U.S. black ops soldier who adopted the name \"Killmonger\". Meanwhile, Killmonger kills Klaue and takes his body to Wakanda. He is brought before the tribal elders, revealing his identity to be N'Jadaka and claim to the throne. Killmonger challenges T'Challa to ritual combat, where he kills Zuri, defeats T'Challa, and hurls him over a waterfall to his presumed death. Killmonger ingests the heart-shaped herb and orders the rest incinerated, but Nakia extracts one first. Killmonger, supported by W'Kabi and his army, prepares to distribute shipments of Wakandan weapons to operatives around the world.\n",
      "\n",
      "Nakia, Shuri, Ramonda, and Ross flee to the Jabari Tribe for aid. They find a comatose T'Challa, rescued by the Jabari in repayment for sparing M'Baku's life. Healed by Nakia's herb, T'Challa returns to fight Killmonger, who dons his own Black Panther suit. W'Kabi and his army fight Shuri, Nakia, and the Dora Milaje, while Ross remotely pilots a jet and shoots down planes carrying the vibranium weapons. M'Baku and the Jabari arrive to reinforce T'Challa. Confronted by Okoye, W'Kabi and his army stand down. Fighting in Wakanda's vibranium mine, T'Challa disrupts Killmonger's suit and stabs him. Killmonger refuses to be healed, choosing to die a free man rather than be incarcerated.\n",
      "\n",
      "T'Challa establishes an outreach center at the building where N'Jobu died, to be run by Nakia and Shuri. In a mid-credits scene, T'Challa appears before the United Nations to reveal Wakanda's true nature to the world. In a post-credits scene, Shuri helps Bucky Barnes with his recuperation.\n",
      "\n",
      "Additionally, John Kani and Florence Kasumba reprise their respective roles of T'Chaka and Ayo from Captain America: Civil War.[35][45] Kani's son Atandwa portrays a young T'Chaka,[18] and Sterling K. Brown plays his brother N'Jobu, who is Killmonger's father.[46][18] Wakandan elders in the film include Isaach de Bankolé for the River Tribe,[47][16]:i Connie Chiume for the Mining Tribe,[48][16]:i Dorothy Steel for the Merchant Tribe, and Danny Sapani for the Border Tribe.[16]:i Sydelle Noel appears as Xoliswa, a member of the Dora Milaje.[49][50] Marija Abney, Janeshia Adams-Ginyard, Maria Hippolyte, Marie Mouroum, Jénel Stevens, Zola Williams, Christine Hollingsworth, and Shaunette Renée Wilson also play Doras.[16]:i Nabiyah Be initially announced that she was playing criminal Tilda Johnson,[51] but her character was simply named Linda in the final film due to Gabrielle Dennis being cast as Johnson in the second season of Luke Cage.[52][53][16]:i Comedian Trevor Noah voices Griot, a Wakandan ship A.I.,[54] Black Panther co-creator Stan Lee has a cameo as a patron in the South Korean casino,[55][18] and Sebastian Stan makes an uncredited appearance in the post-credits scene reprising his role as Bucky Barnes.[56]\n",
      "\n",
      "In June 1992, Wesley Snipes announced his intention to make a film about Black Panther,[57] and began work on it by that August.[58] Snipes felt that Africa had been portrayed poorly in Hollywood films previously, and that this film could highlight the majesty of the continent due to the character being noble and \"the antithesis of [African] stereotypes\".[59] The next July, Snipes planned to begin The Black Panther after starring in Demolition Man (1993),[60] and a month later he expressed interest in making sequels to the film as well.[61] In January 1994, Snipes entered talks with Columbia Pictures to portray Black Panther,[62] and Black Panther co-creator Stan Lee joined the film by March;[63] it entered early development by May.[64] Snipes had discussions with several different screenwriters and directors about the project, including Mario Van Peebles and John Singleton.[59] When the film had not progressed by January 1996, Lee explained that he had not been pleased with the scripts for the project.[65] Snipes said that there was confusion among those unfamiliar with the comics, who thought that the film was about the Black Panther Party.[59]\n",
      "\n",
      "In July 1997, Black Panther was listed as part of Marvel Comics' film slate,[66] and in March 1998, Marvel reportedly hired Joe Quesada and Jimmy Palmiotti, who at the time were editors of the Black Panther comics, to work on it;[67][59] Quesada and Palmiotti have both denied this.[59] That August, corporate problems at Marvel put the project on hold.[68] A year later, Snipes was set to produce, and possibly star, in the film,[69] while Artisan Entertainment announced a deal with Marvel in May 2000 to co-produce, finance, and distribute the film.[70] In March 2002, Snipes planned to make the film or Blade 3 (2004) over the next year.[71] In July 2004, Blade 3 director David S. Goyer felt Snipes starring as Black Panther in addition to Marvel's Blade \"might be overkill\".[72]\n",
      "\n",
      "In September 2005, Marvel chairman and CEO Avi Arad announced Black Panther as one of ten films being developed by the new Marvel Studios.[73] In June 2006, Snipes said he hoped to have a director for the project soon,[74] and Marvel Studios president Kevin Feige reiterated in February 2007 that Black Panther was in development.[75] By that July, John Singleton had been approached to direct the film.[76] In March 2009, Marvel hired writers to help come up with creative ways to launch its lesser-known properties, including Black Panther;[77] Nate Moore, the head of the writers program, was overseeing the development of Black Panther specifically.[78] Snipes' involvement stalled at this time, as he was convicted of failing to file a tax return, serving his sentence from June 2010 to April 2013.[79] In January 2011, Marvel Studios hired documentary filmmaker Mark Bailey to write a script for Black Panther, to be produced by Feige.[80] By October 2013, the metal vibranium, which comes from Black Panther's home nation Wakanda, was introduced in the Marvel Cinematic Universe;[81] Marvel had considered showing Wakanda itself as early as Iron Man 2 (2010), but were waiting until they had \"a full idea\" of how to depict it.[10]\n",
      "\n",
      "\n",
      "\n",
      "Summarized Text: \n",
      "T'Chaka accuses N'Jobu of assisting black-market arms dealer Ulysses Klaue with stealing vibranium from Wakanda.\n",
      "He and Okoye, the leader of the Dora Milaje regiment, extract T'Challa's ex-lover Nakia from an undercover assignment so she can attend his coronation ceremony with his mother Ramonda and younger sister Shuri.\n",
      "Rather than pursue Klaue, T'Challa takes Ross to Wakanda, where their technology can save him.\n",
      "While Shuri heals Ross, T'Challa confronts Zuri about N'Jobu.\n",
      "Zuri explains that N'Jobu planned to share Wakanda's technology with people of African descent around the world to help them conquer their oppressors.\n",
      "Nakia, Shuri, Ramonda, and Ross flee to the Jabari Tribe for aid.\n",
      "Healed by Nakia's herb, T'Challa returns to fight Killmonger, who dons his own Black Panther suit.\n",
      "W'Kabi and his army fight Shuri, Nakia, and the Dora Milaje, while Ross remotely pilots a jet and shoots down planes carrying the vibranium weapons.\n",
      "Fighting in Wakanda's vibranium mine, T'Challa disrupts Killmonger's suit and stabs him.\n"
     ]
    }
   ],
   "source": [
    "input_text = read_plot('Black Panther (film)')\n",
    "# summarize Text\n",
    "output = summarize(input_text)\n",
    "print('Summarized Text: \\n' + output)"
   ]
  },
  {
   "cell_type": "code",
   "execution_count": null,
   "metadata": {},
   "outputs": [],
   "source": []
  }
 ],
 "metadata": {
  "kernelspec": {
   "display_name": "Python 3",
   "language": "python",
   "name": "python3"
  },
  "language_info": {
   "codemirror_mode": {
    "name": "ipython",
    "version": 3
   },
   "file_extension": ".py",
   "mimetype": "text/x-python",
   "name": "python",
   "nbconvert_exporter": "python",
   "pygments_lexer": "ipython3",
   "version": "3.7.2"
  }
 },
 "nbformat": 4,
 "nbformat_minor": 1
}
